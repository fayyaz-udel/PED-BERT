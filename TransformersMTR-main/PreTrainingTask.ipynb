{
 "cells": [
  {
   "cell_type": "code",
   "execution_count": 1,
   "metadata": {},
   "outputs": [
    {
     "name": "stdout",
     "output_type": "stream",
     "text": [
      "Requirement already satisfied: torch in g:\\my drive\\phd projects\\3- pediatric pipeline\\ped-bert\\venv\\lib\\site-packages (1.11.0)\n",
      "Requirement already satisfied: typing-extensions in g:\\my drive\\phd projects\\3- pediatric pipeline\\ped-bert\\venv\\lib\\site-packages (from torch) (4.1.1)\n"
     ]
    },
    {
     "name": "stderr",
     "output_type": "stream",
     "text": [
      "WARNING: You are using pip version 21.3.1; however, version 22.0.4 is available.\n",
      "You should consider upgrading via the 'G:\\My Drive\\PhD Projects\\3- Pediatric Pipeline\\PED-BERT\\venv\\Scripts\\python.exe -m pip install --upgrade pip' command.\n"
     ]
    }
   ],
   "source": [
    "!pip install torch"
   ]
  },
  {
   "cell_type": "code",
   "execution_count": 2,
   "metadata": {},
   "outputs": [
    {
     "name": "stdout",
     "output_type": "stream",
     "text": [
      "Collecting import_ipynb\n",
      "  Downloading import-ipynb-0.1.3.tar.gz (4.0 kB)\n",
      "  Preparing metadata (setup.py): started\n",
      "  Preparing metadata (setup.py): finished with status 'done'\n",
      "Building wheels for collected packages: import-ipynb\n",
      "  Building wheel for import-ipynb (setup.py): started\n",
      "  Building wheel for import-ipynb (setup.py): finished with status 'done'\n",
      "  Created wheel for import-ipynb: filename=import_ipynb-0.1.3-py3-none-any.whl size=2975 sha256=6860a5a2d8f936c434d6b2dbf72268c1cf2f2e346323c85603c3cbd4c2e7c9c1\n",
      "  Stored in directory: c:\\users\\hamed\\appdata\\local\\pip\\cache\\wheels\\b1\\5e\\dc\\79780689896a056199b0b9f24471e3ee184fbd816df355d5f0\n",
      "Successfully built import-ipynb\n",
      "Installing collected packages: import-ipynb\n",
      "Successfully installed import-ipynb-0.1.3\n"
     ]
    },
    {
     "name": "stderr",
     "output_type": "stream",
     "text": [
      "WARNING: You are using pip version 21.3.1; however, version 22.0.4 is available.\n",
      "You should consider upgrading via the 'G:\\My Drive\\PhD Projects\\3- Pediatric Pipeline\\PED-BERT\\venv\\Scripts\\python.exe -m pip install --upgrade pip' command.\n"
     ]
    }
   ],
   "source": [
    "!pip install import_ipynb"
   ]
  },
  {
   "cell_type": "code",
   "execution_count": 3,
   "metadata": {},
   "outputs": [
    {
     "name": "stdout",
     "output_type": "stream",
     "text": [
      "Requirement already satisfied: pytorch_pretrained_bert in g:\\my drive\\phd projects\\3- pediatric pipeline\\ped-bert\\venv\\lib\\site-packages (0.6.2)\n",
      "Requirement already satisfied: regex in g:\\my drive\\phd projects\\3- pediatric pipeline\\ped-bert\\venv\\lib\\site-packages (from pytorch_pretrained_bert) (2022.3.15)\n",
      "Requirement already satisfied: torch>=0.4.1 in g:\\my drive\\phd projects\\3- pediatric pipeline\\ped-bert\\venv\\lib\\site-packages (from pytorch_pretrained_bert) (1.11.0)\n",
      "Requirement already satisfied: boto3 in g:\\my drive\\phd projects\\3- pediatric pipeline\\ped-bert\\venv\\lib\\site-packages (from pytorch_pretrained_bert) (1.21.34)\n",
      "Requirement already satisfied: requests in g:\\my drive\\phd projects\\3- pediatric pipeline\\ped-bert\\venv\\lib\\site-packages (from pytorch_pretrained_bert) (2.27.1)\n",
      "Requirement already satisfied: numpy in g:\\my drive\\phd projects\\3- pediatric pipeline\\ped-bert\\venv\\lib\\site-packages (from pytorch_pretrained_bert) (1.21.5)\n",
      "Requirement already satisfied: tqdm in g:\\my drive\\phd projects\\3- pediatric pipeline\\ped-bert\\venv\\lib\\site-packages (from pytorch_pretrained_bert) (4.64.0)\n",
      "Requirement already satisfied: typing-extensions in g:\\my drive\\phd projects\\3- pediatric pipeline\\ped-bert\\venv\\lib\\site-packages (from torch>=0.4.1->pytorch_pretrained_bert) (4.1.1)\n",
      "Requirement already satisfied: s3transfer<0.6.0,>=0.5.0 in g:\\my drive\\phd projects\\3- pediatric pipeline\\ped-bert\\venv\\lib\\site-packages (from boto3->pytorch_pretrained_bert) (0.5.2)\n",
      "Requirement already satisfied: jmespath<2.0.0,>=0.7.1 in g:\\my drive\\phd projects\\3- pediatric pipeline\\ped-bert\\venv\\lib\\site-packages (from boto3->pytorch_pretrained_bert) (1.0.0)\n",
      "Requirement already satisfied: botocore<1.25.0,>=1.24.34 in g:\\my drive\\phd projects\\3- pediatric pipeline\\ped-bert\\venv\\lib\\site-packages (from boto3->pytorch_pretrained_bert) (1.24.34)\n",
      "Requirement already satisfied: certifi>=2017.4.17 in g:\\my drive\\phd projects\\3- pediatric pipeline\\ped-bert\\venv\\lib\\site-packages (from requests->pytorch_pretrained_bert) (2021.10.8)\n",
      "Requirement already satisfied: charset-normalizer~=2.0.0 in g:\\my drive\\phd projects\\3- pediatric pipeline\\ped-bert\\venv\\lib\\site-packages (from requests->pytorch_pretrained_bert) (2.0.12)\n",
      "Requirement already satisfied: idna<4,>=2.5 in g:\\my drive\\phd projects\\3- pediatric pipeline\\ped-bert\\venv\\lib\\site-packages (from requests->pytorch_pretrained_bert) (3.3)\n",
      "Requirement already satisfied: urllib3<1.27,>=1.21.1 in g:\\my drive\\phd projects\\3- pediatric pipeline\\ped-bert\\venv\\lib\\site-packages (from requests->pytorch_pretrained_bert) (1.26.9)\n",
      "Requirement already satisfied: colorama in g:\\my drive\\phd projects\\3- pediatric pipeline\\ped-bert\\venv\\lib\\site-packages (from tqdm->pytorch_pretrained_bert) (0.4.4)\n",
      "Requirement already satisfied: python-dateutil<3.0.0,>=2.1 in g:\\my drive\\phd projects\\3- pediatric pipeline\\ped-bert\\venv\\lib\\site-packages (from botocore<1.25.0,>=1.24.34->boto3->pytorch_pretrained_bert) (2.8.2)\n",
      "Requirement already satisfied: six>=1.5 in g:\\my drive\\phd projects\\3- pediatric pipeline\\ped-bert\\venv\\lib\\site-packages (from python-dateutil<3.0.0,>=2.1->botocore<1.25.0,>=1.24.34->boto3->pytorch_pretrained_bert) (1.16.0)\n"
     ]
    },
    {
     "name": "stderr",
     "output_type": "stream",
     "text": [
      "WARNING: You are using pip version 21.3.1; however, version 22.0.4 is available.\n",
      "You should consider upgrading via the 'G:\\My Drive\\PhD Projects\\3- Pediatric Pipeline\\PED-BERT\\venv\\Scripts\\python.exe -m pip install --upgrade pip' command.\n"
     ]
    }
   ],
   "source": [
    "!pip install pytorch_pretrained_bert "
   ]
  },
  {
   "cell_type": "code",
   "execution_count": 4,
   "metadata": {},
   "outputs": [
    {
     "ename": "ModuleNotFoundError",
     "evalue": "No module named 'cvd_utils'",
     "output_type": "error",
     "traceback": [
      "\u001B[1;31m---------------------------------------------------------------------------\u001B[0m",
      "\u001B[1;31mModuleNotFoundError\u001B[0m                       Traceback (most recent call last)",
      "\u001B[1;32m~\\AppData\\Local\\Temp\\ipykernel_22888\\4027821380.py\u001B[0m in \u001B[0;36m<module>\u001B[1;34m\u001B[0m\n\u001B[0;32m      8\u001B[0m \u001B[1;32mimport\u001B[0m \u001B[0mnumpy\u001B[0m \u001B[1;32mas\u001B[0m \u001B[0mnp\u001B[0m\u001B[1;33m\u001B[0m\u001B[1;33m\u001B[0m\u001B[0m\n\u001B[0;32m      9\u001B[0m \u001B[1;32mimport\u001B[0m \u001B[0mimport_ipynb\u001B[0m\u001B[1;33m\u001B[0m\u001B[1;33m\u001B[0m\u001B[0m\n\u001B[1;32m---> 10\u001B[1;33m \u001B[1;32mfrom\u001B[0m \u001B[0mcvd_utils\u001B[0m \u001B[1;32mimport\u001B[0m \u001B[1;33m*\u001B[0m\u001B[1;33m\u001B[0m\u001B[1;33m\u001B[0m\u001B[0m\n\u001B[0m\u001B[0;32m     11\u001B[0m \u001B[1;32mfrom\u001B[0m \u001B[0mPreTrainingModel\u001B[0m \u001B[1;32mimport\u001B[0m \u001B[1;33m*\u001B[0m\u001B[1;33m\u001B[0m\u001B[1;33m\u001B[0m\u001B[0m\n\u001B[0;32m     12\u001B[0m \u001B[1;32mimport\u001B[0m \u001B[0mtorch\u001B[0m\u001B[1;33m.\u001B[0m\u001B[0mnn\u001B[0m \u001B[1;32mas\u001B[0m \u001B[0mnn\u001B[0m\u001B[1;33m\u001B[0m\u001B[1;33m\u001B[0m\u001B[0m\n",
      "\u001B[1;31mModuleNotFoundError\u001B[0m: No module named 'cvd_utils'"
     ]
    }
   ],
   "source": [
    "import os\n",
    "import sys\n",
    "import pandas as pd\n",
    "import csv\n",
    "import collections\n",
    "import torch\n",
    "from torch.nn.utils.rnn import pad_sequence\n",
    "import numpy as np\n",
    "import import_ipynb\n",
    "from cvd_utils import *\n",
    "from PreTrainingModel import *\n",
    "import torch.nn as nn\n",
    "import torch.nn.functional as F\n",
    "from torch.nn import TransformerEncoder, TransformerEncoderLayer, TransformerDecoder, TransformerDecoderLayer\n",
    "import time\n",
    "from sklearn import preprocessing\n",
    "import math\n",
    "import sklearn.metrics as skm\n"
   ]
  },
  {
   "cell_type": "code",
   "execution_count": null,
   "metadata": {},
   "outputs": [],
   "source": [
    "src = pd.read_csv(\"src_df.csv\", header=0)\n",
    "sex = pd.read_csv(\"sex_df.csv\", header=0)\n",
    "ethni = pd.read_csv(\"ethni_df.csv\", header=0)\n",
    "race = pd.read_csv(\"race_df.csv\", header=0)\n",
    "age = pd.read_csv(\"age_df.csv\", header=0)\n",
    "vocab = pd.read_csv(\"vocab_df.csv\", header=0)\n",
    "age_vocab = pd.read_csv(\"age_vocab_df.csv\", header=0)"
   ]
  },
  {
   "cell_type": "code",
   "execution_count": null,
   "metadata": {},
   "outputs": [],
   "source": [
    "src= src.drop(columns=[\"Unnamed: 0\"])\n",
    "src = src.fillna(-125)\n",
    "age = age.drop(columns=[\"Unnamed: 0\"])\n",
    "age = age.fillna(-125)\n",
    "sex = sex.drop(columns=[\"Unnamed: 0\"])\n",
    "sex = sex.fillna(-125)\n",
    "ethni = ethni.drop(columns=[\"Unnamed: 0\"])\n",
    "ethni = ethni.fillna(-125)\n",
    "race = race.drop(columns=[\"Unnamed: 0\"])\n",
    "race = race.fillna(-125)"
   ]
  },
  {
   "cell_type": "code",
   "execution_count": null,
   "metadata": {},
   "outputs": [],
   "source": [
    "vocab = vocab.to_dict()['Unnamed: 0']\n",
    "vocab = {v: k for k, v in vocab.items()}"
   ]
  },
  {
   "cell_type": "code",
   "execution_count": null,
   "metadata": {},
   "outputs": [],
   "source": [
    "train_l = int(len(src)*0.70)\n",
    "val_l = int(len(src)*0.1)\n",
    "test_l = len(src) - val_l - train_l"
   ]
  },
  {
   "cell_type": "code",
   "execution_count": null,
   "metadata": {},
   "outputs": [],
   "source": [
    "test_l"
   ]
  },
  {
   "cell_type": "code",
   "execution_count": null,
   "metadata": {},
   "outputs": [],
   "source": [
    "file_config = {\n",
    "    'model_path': 'model/', # where to save model\n",
    "    'model_name': 'PreTrain_CVDTransformer', # model name\n",
    "    'file_name': 'log.txt',  # log path\n",
    "}\n",
    "#create_folder(file_config['model_path'])\n",
    "\n",
    "global_params = {\n",
    "    'max_seq_len': src.shape[1],\n",
    "    'max_age': max(age_vocab.keys()),\n",
    "    'month': 1,\n",
    "    'age_symbol': None,\n",
    "    'min_visit': 3,\n",
    "    'gradient_accumulation_steps': 1\n",
    "}\n",
    "\n",
    "optim_param = {\n",
    "    'lr': 3e-5,\n",
    "    'warmup_proportion': 0.1,\n",
    "    'weight_decay': 0.01\n",
    "}\n",
    "\n",
    "train_params = {\n",
    "    'batch_size': 32,\n",
    "    'use_cuda': True,\n",
    "    'max_len_seq': global_params['max_seq_len'],\n",
    "    'device': \"cuda:0\" if torch.cuda.is_available() else \"cpu\",\n",
    "    'data_len' : len(src),\n",
    "    'train_data_len' : train_l,\n",
    "    'val_data_len' : val_l,\n",
    "    'test_data_len' : test_l,\n",
    "    'epochs' : 50,\n",
    "    'action' : 'train'\n",
    "}\n",
    "\n",
    "model_config = {\n",
    "    'vocab_size': len(vocab), # number of disease + symbols for word embedding\n",
    "    'hidden_size': 288, # word embedding and seg embedding hidden size\n",
    "    'seg_vocab_size': 2, # number of vocab for seg embedding\n",
    "    'age_vocab_size': age_vocab.shape[0], # number of vocab for age embedding\n",
    "    'gender_vocab_size': 2,\n",
    "    'ethnicity_vocab_size': 4,\n",
    "    'race_vocab_size': 5,\n",
    "    'max_position_embedding': train_params['max_len_seq'], # maximum number of tokens\n",
    "    'hidden_dropout_prob': 0.1, # dropout rate\n",
    "    'num_hidden_layers': 6, # number of multi-head attention layers required\n",
    "    'num_attention_heads': 12, # number of attention heads\n",
    "    'attention_probs_dropout_prob': 0.1, # multi-head attention dropout rate\n",
    "    'intermediate_size': 512, # the size of the \"intermediate\" layer in the transformer encoder\n",
    "    'hidden_act': 'gelu', # The non-linear activation function in the encoder and the pooler \"gelu\", 'relu', 'swish' are supported\n",
    "    'initializer_range': 0.02 # parameter weight initializer range\n",
    "}"
   ]
  },
  {
   "cell_type": "code",
   "execution_count": null,
   "metadata": {},
   "outputs": [],
   "source": [
    "train_code = src.values[:train_l]\n",
    "val_code = src.values[train_l:train_l + val_l]\n",
    "test_code = src.values[train_l + val_l:]\n",
    "\n",
    "train_age = age.values[:train_l]\n",
    "val_age = age.values[train_l:train_l + val_l]\n",
    "test_age = age.values[train_l + val_l:]\n",
    "\n",
    "\n",
    "train_gender = sex.values[:train_l]\n",
    "val_gender = sex.values[train_l:train_l + val_l]\n",
    "test_gender = sex.values[train_l + val_l:]\n",
    "\n",
    "train_ethni = ethni.values[:train_l]\n",
    "val_ethni = ethni.values[train_l:train_l + val_l]\n",
    "test_ethni = ethni.values[train_l + val_l:]\n",
    "\n",
    "train_race = race.values[:train_l]\n",
    "val_race = race.values[train_l:train_l + val_l]\n",
    "test_race = race.values[train_l + val_l:]\n",
    "\n",
    "train_data = {\"code\":train_code, \"age\":train_age, \"gender\" : train_gender, \"ethnicity\" : train_ethni, \"race\" : train_race}\n",
    "val_data = {\"code\":val_code, \"age\":val_age, \"gender\" : val_gender, \"ethnicity\" : val_ethni, \"race\" : val_race}\n",
    "test_data = {\"code\":test_code, \"age\":test_age, \"gender\" : test_gender, \"ethnicity\" : test_ethni, \"race\" : test_race}"
   ]
  },
  {
   "cell_type": "code",
   "execution_count": null,
   "metadata": {},
   "outputs": [],
   "source": [
    "for key in train_data:\n",
    "    tmp = []\n",
    "    for i in range(len(train_data[key])):\n",
    "        tmp.append(train_data[key][i][train_data[key][i] != -125])\n",
    "    train_data[key] = tmp"
   ]
  },
  {
   "cell_type": "code",
   "execution_count": null,
   "metadata": {},
   "outputs": [],
   "source": [
    "for key in val_data:\n",
    "    tmp = []\n",
    "    for i in range(len(val_data[key])):\n",
    "        tmp.append(val_data[key][i][val_data[key][i] != -125])\n",
    "    val_data[key] = tmp"
   ]
  },
  {
   "cell_type": "code",
   "execution_count": null,
   "metadata": {},
   "outputs": [],
   "source": [
    "for key in test_data:\n",
    "    tmp = []\n",
    "    for i in range(len(test_data[key])):\n",
    "        tmp.append(test_data[key][i][test_data[key][i] != -125])\n",
    "    test_data[key] = tmp"
   ]
  },
  {
   "cell_type": "code",
   "execution_count": null,
   "metadata": {},
   "outputs": [],
   "source": [
    "conf = BertConfig(model_config)\n",
    "model = BertForMaskedLM(conf)\n",
    "model = model.to(train_params['device'])\n",
    "optim = adam(params=list(model.named_parameters()), config=optim_param)"
   ]
  },
  {
   "cell_type": "code",
   "execution_count": null,
   "metadata": {},
   "outputs": [],
   "source": [
    "def run_epoch(e, trainload):\n",
    "    tr_loss = 0\n",
    "    start = time.time()\n",
    "    for step, batch in enumerate(trainload):\n",
    "        optim.zero_grad()\n",
    "        batch = tuple(t for t in batch)\n",
    "        age_ids, input_ids, gender_ids, ethni_ids, race_ids, posi_ids, segment_ids, attMask, masked_label = batch\n",
    "        loss, pred, label = model(input_ids, age_ids, gender_ids, ethni_ids, race_ids, segment_ids, posi_ids,attention_mask=attMask, masked_lm_labels=masked_label)\n",
    "        if global_params['gradient_accumulation_steps'] >1:\n",
    "            loss = loss/global_params['gradient_accumulation_steps']\n",
    "        loss.backward()\n",
    "        tr_loss += loss.item()\n",
    "        if step%50 == 0:\n",
    "            print(cal_acc(label, pred))\n",
    "        optim.step()\n",
    "    print(\"** ** * Saving fine - tuned model ** ** * \")\n",
    "    model_to_save = model.module if hasattr(model, 'module') else model\n",
    "    save_model(model_to_save.state_dict())\n",
    "    cost = time.time() - start\n",
    "    return tr_loss, cost"
   ]
  },
  {
   "cell_type": "code",
   "execution_count": null,
   "metadata": {},
   "outputs": [],
   "source": [
    "def train(trainload, valload):\n",
    "    with open(\"log_fine_tune.txt\", 'w') as f:\n",
    "            f.write('')\n",
    "    model.train()\n",
    "    for e in range(train_params[\"epochs\"]):\n",
    "        print(\"Epoch n\" + str(e))\n",
    "        train_loss, train_time_cost = run_epoch(e, trainload)\n",
    "        val_loss, val_time_cost,pred, label = eval(valload)\n",
    "        train_loss = train_loss / math.ceil((train_params[\"train_data_len\"]/train_params['batch_size']))\n",
    "        val_loss = val_loss / math.ceil((train_params[\"val_data_len\"]/train_params['batch_size']))\n",
    "        print('TRAIN {}\\t{} secs\\n'.format(train_loss, train_time_cost))\n",
    "        with open(\"log_fine_tune.txt\", 'a') as f:\n",
    "            f.write(\"Epoch n\" + str(e) + '\\n TRAIN {}\\t{} secs\\n'.format(train_loss, train_time_cost) + '\\n\\n\\n')\n",
    "            f.write('EVAL {}\\t{} secs\\n'.format(val_loss, val_time_cost) + '\\n\\n\\n')\n",
    "        my_bucket = os.getenv('WORKSPACE_BUCKET')\n",
    "        os.system(f\"gsutil cp './log_fine_tune.txt' '{my_bucket}/data/'\")\n",
    "    return train_loss, 0"
   ]
  },
  {
   "cell_type": "code",
   "execution_count": null,
   "metadata": {},
   "outputs": [],
   "source": [
    "def eval(_valload):\n",
    "    tr_loss = 0\n",
    "    temp_loss = 0\n",
    "    start = time.time()\n",
    "    model.eval()\n",
    "    for step, batch in enumerate(_valload):\n",
    "        batch = tuple(t for t in batch)\n",
    "        age_ids, input_ids, gender_ids, ethni_ids, race_ids, posi_ids, segment_ids, attMask, masked_label = batch\n",
    "        loss, pred, label = model(input_ids, age_ids, gender_ids, ethni_ids, race_ids, segment_ids, posi_ids,attention_mask=attMask, masked_lm_labels=masked_label)\n",
    "        #pred_array += pred\n",
    "        #label_array += label\n",
    "        if global_params['gradient_accumulation_steps'] >1:\n",
    "            loss = loss/global_params['gradient_accumulation_steps']\n",
    "        temp_loss += loss.item()\n",
    "        tr_loss += loss.item()\n",
    "\n",
    "    cost = time.time() - start\n",
    "    return tr_loss, cost, pred, label\n"
   ]
  },
  {
   "cell_type": "code",
   "execution_count": null,
   "metadata": {},
   "outputs": [],
   "source": [
    "def save_model(_model_dict):\n",
    "    torch.save(_model_dict, \"PreTrain_CVDTransformer\")\n",
    "    my_bucket = os.getenv('WORKSPACE_BUCKET')\n",
    "    os.system(f\"gsutil cp './PreTrain_CVDTransformer' '{my_bucket}/data/'\")\n",
    "    print(f'[INFO] model_dict is successfully uploaded in your bucket.')"
   ]
  },
  {
   "cell_type": "code",
   "execution_count": null,
   "metadata": {},
   "outputs": [],
   "source": [
    "def cal_acc(label, pred):\n",
    "    logs = nn.LogSoftmax()\n",
    "    label=label.cpu().numpy()\n",
    "    ind = np.where(label!=-1)[0]\n",
    "    truepred = pred.detach().cpu().numpy()\n",
    "    truepred = truepred[ind]\n",
    "    truelabel = label[ind]\n",
    "    truepred = logs(torch.tensor(truepred))\n",
    "    outs = [np.argmax(pred_x) for pred_x in truepred.numpy()]\n",
    "    precision = skm.precision_score(truelabel, outs, average='micro')\n",
    "    return precision"
   ]
  },
  {
   "cell_type": "code",
   "execution_count": null,
   "metadata": {
    "scrolled": true
   },
   "outputs": [],
   "source": [
    "if train_params['action'] == 'resume' or train_params['action'] == 'eval':\n",
    "    my_bucket = os.getenv('WORKSPACE_BUCKET')\n",
    "    name_of_file_in_bucket = \"PreTrain_CVDTransformer\"\n",
    "    os.system(f\"gsutil cp '{my_bucket}/data/{name_of_file_in_bucket}' .\")\n",
    "    model.load_state_dict(torch.load(\"PreTrain_CVDTransformer\", map_location=train_params['device']))\n",
    "if train_params['action'] == 'train' or train_params['action'] == 'resume':\n",
    "    TrainDset = CVDLoader(train_data, vocab, max_len=train_params['max_len_seq'], code='code')\n",
    "    trainload = torch.utils.data.DataLoader(dataset=TrainDset, batch_size=train_params['batch_size'], shuffle=True, num_workers=3)\n",
    "    ValDset = CVDLoader(val_data, vocab, max_len=train_params['max_len_seq'], code='code')\n",
    "    valload = torch.utils.data.DataLoader(dataset=ValDset, batch_size=train_params['batch_size'], shuffle=True, num_workers=1)\n",
    "    train_loss, val_loss = train(trainload, valload)\n",
    "elif train_params['action'] == 'eval':\n",
    "    TestDset = CVDLoader(test_data, vocab, max_len=train_params['max_len_seq'], code='code')\n",
    "    testload = torch.utils.data.DataLoader(dataset=TestDset, batch_size=int(32), shuffle=True, num_workers=3)\n",
    "    loss, cost, pred, label = eval(testload)"
   ]
  },
  {
   "cell_type": "code",
   "execution_count": null,
   "metadata": {},
   "outputs": [],
   "source": [
    "#my_bucket = os.getenv('WORKSPACE_BUCKET')\n",
    "#name_of_file_in_bucket = \"PreTrain_CVDTransformer\"\n",
    "#os.system(f\"gsutil cp '{my_bucket}/data/{name_of_file_in_bucket}' .\")\n",
    "#model.load_state_dict(torch.load(\"model_dict\", map_location=train_params['device']))\n",
    "TestDset = CVDLoader(test_data, vocab, max_len=train_params['max_len_seq'], code='code')\n",
    "testload = torch.utils.data.DataLoader(dataset=TestDset, batch_size=int(32), shuffle=False, num_workers=3)\n",
    "loss, cost, pred, label = eval(testload)"
   ]
  }
 ],
 "metadata": {
  "kernelspec": {
   "display_name": "Python 3",
   "language": "python",
   "name": "python3"
  },
  "language_info": {
   "codemirror_mode": {
    "name": "ipython",
    "version": 3
   },
   "file_extension": ".py",
   "mimetype": "text/x-python",
   "name": "python",
   "nbconvert_exporter": "python",
   "pygments_lexer": "ipython3",
   "version": "3.7.10"
  },
  "toc": {
   "base_numbering": 1,
   "nav_menu": {},
   "number_sections": true,
   "sideBar": true,
   "skip_h1_title": false,
   "title_cell": "Table of Contents",
   "title_sidebar": "Contents",
   "toc_cell": false,
   "toc_position": {},
   "toc_section_display": true,
   "toc_window_display": false
  }
 },
 "nbformat": 4,
 "nbformat_minor": 2
}