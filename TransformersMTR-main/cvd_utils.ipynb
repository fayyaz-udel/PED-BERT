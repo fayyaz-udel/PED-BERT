{
 "cells": [
  {
   "cell_type": "code",
   "execution_count": 1,
   "metadata": {},
   "outputs": [],
   "source": [
    "import pandas as pd\n",
    "import numpy as np\n",
    "import os\n",
    "import sys\n",
    "import random"
   ]
  },
  {
   "cell_type": "code",
   "execution_count": 2,
   "metadata": {},
   "outputs": [],
   "source": [
    "START = 0\n",
    "PAD = 1\n",
    "SEP = 2\n",
    "END = 3"
   ]
  },
  {
   "cell_type": "code",
   "execution_count": 3,
   "metadata": {},
   "outputs": [],
   "source": [
    "def tokenize_dataset(data_input, vocab):\n",
    "    tokenized = []\n",
    "    idx = 0\n",
    "    last_person = 0\n",
    "    max_length = 0\n",
    "    for patient, group in data_input.groupby(\"person_id\"):\n",
    "        tokenized.append([])\n",
    "        tokenized[idx].append(START)\n",
    "        for index, row in group.iterrows():\n",
    "            for cond in data_input.columns:\n",
    "                if row[cond] != 0 and cond != \"person_id\":\n",
    "                    tokenized[idx].append(vocab[\"token2idx\"][cond])\n",
    "            tokenized[idx].append(SEP)\n",
    "        tokenized[idx][-1] = END\n",
    "        max_len = len(tokenized[idx])\n",
    "        idx += 1\n",
    "    return tokenized, max(max_length, len(tokenized[-1]))"
   ]
  },
  {
   "cell_type": "code",
   "execution_count": 2,
   "metadata": {},
   "outputs": [],
   "source": [
    "def tokenize_age(data_input, vocab, src):\n",
    "    tokenized = []\n",
    "    tokenized.append([])\n",
    "    idx = 0\n",
    "    idx_2 = 0\n",
    "    last_person = 0\n",
    "    max_length = 0\n",
    "    for patient in src:\n",
    "        for row in patient:\n",
    "            tokenized[idx_2].append(vocab[\"token2idx\"][data_input.at[idx, \"age\"]])\n",
    "            if row == SEP or row == END:\n",
    "                idx += 1\n",
    "            \n",
    "        idx_2 += 1\n",
    "        tokenized.append([])\n",
    "    tokenized.pop()\n",
    "    return tokenized"
   ]
  },
  {
   "cell_type": "code",
   "execution_count": 5,
   "metadata": {},
   "outputs": [],
   "source": [
    "def seq_padding(tokens, max_len, token2idx=None, symbol=None):\n",
    "    \n",
    "    if symbol is None:\n",
    "        symbol = PAD\n",
    "\n",
    "    seq = []\n",
    "    token_len = len(tokens)\n",
    "    for i in range(max_len):\n",
    "        if i < token_len:\n",
    "            seq.append(tokens[i])\n",
    "        else:\n",
    "            seq.append(symbol)\n",
    "    return seq"
   ]
  },
  {
   "cell_type": "code",
   "execution_count": 6,
   "metadata": {},
   "outputs": [],
   "source": [
    "def position_idx(tokens, symbol=SEP):\n",
    "    pos = []\n",
    "    flag = 0\n",
    "\n",
    "    for token in tokens:\n",
    "        if token == symbol:\n",
    "            pos.append(flag)\n",
    "            flag += 1\n",
    "        else:\n",
    "            pos.append(flag)\n",
    "    return pos"
   ]
  },
  {
   "cell_type": "code",
   "execution_count": 7,
   "metadata": {},
   "outputs": [],
   "source": [
    " def build_vocab(data_input):\n",
    "    token2idx = {\"<start>\":START, \"<pad>\":PAD, \"<sep>\":SEP, \"<end>\":END}\n",
    "    idx2token = {START:\"<start>\", PAD:\"<pad>\", SEP:\"<sep>\", END:\"<end>\"}\n",
    "    idx = 4\n",
    "    for cond in data_input.columns:\n",
    "        if cond == \"person_id\":\n",
    "            continue\n",
    "        token2idx[cond] = idx\n",
    "        idx2token[idx] = cond\n",
    "        idx +=1\n",
    "    return {\"token2idx\":token2idx, \"idx2token\":idx2token}"
   ]
  },
  {
   "cell_type": "code",
   "execution_count": 8,
   "metadata": {},
   "outputs": [],
   "source": [
    "def index_seg(tokens, symbol=SEP):\n",
    "    flag = 0\n",
    "    seg = []\n",
    "\n",
    "    for token in tokens:\n",
    "        if token == symbol:\n",
    "            seg.append(flag)\n",
    "            if flag == 0:\n",
    "                flag = 1\n",
    "            else:\n",
    "                flag = 0\n",
    "        else:\n",
    "            seg.append(flag)\n",
    "    return seg"
   ]
  },
  {
   "cell_type": "code",
   "execution_count": 9,
   "metadata": {},
   "outputs": [],
   "source": [
    " def build_age_vocab(data_input):\n",
    "    token2idx = {}\n",
    "    idx2token = {}\n",
    "    min_age = 999\n",
    "    max_age = 0\n",
    "    \n",
    "    for index, row in data_input.iterrows():\n",
    "        if row[\"age\"] > max_age:\n",
    "            max_age = row[\"age\"]\n",
    "        if row[\"age\"] < min_age:\n",
    "            min_age = row[\"age\"]\n",
    "    idx = 0\n",
    "    for i in np.arange(min_age, max_age + 0.25, 0.25):\n",
    "        token2idx[i] = idx\n",
    "        idx2token[idx] = i\n",
    "        idx += 1\n",
    "    return {\"token2idx\":token2idx, \"idx2token\":idx2token}"
   ]
  },
  {
   "cell_type": "code",
   "execution_count": 10,
   "metadata": {},
   "outputs": [],
   "source": [
    "def create_folder(path):\n",
    "    if not os.path.exists(path):\n",
    "        os.makedirs(path)\n",
    "\n",
    "\n",
    "def save_obj(obj, name):\n",
    "    with open(name + '.pkl', 'wb') as f:\n",
    "        pickle.dump(obj, f)\n",
    "\n",
    "\n",
    "def load_obj(name):\n",
    "    with open(name + '.pkl', 'rb') as f:\n",
    "        return pickle.load(f)"
   ]
  },
  {
   "cell_type": "code",
   "execution_count": 11,
   "metadata": {},
   "outputs": [],
   "source": [
    "def random_mask(tokens, token2idx):\n",
    "    output_label = []\n",
    "    output_token = []\n",
    "    for i, token in enumerate(tokens):\n",
    "        prob = random.random()\n",
    "        # mask token with 15% probability\n",
    "        if prob < 0.15 and token>3:\n",
    "            prob /= 0.15\n",
    "\n",
    "            # 80% randomly change token to mask token\n",
    "            if prob < 0.8:\n",
    "                output_token.append(token2idx[\"MASK\"])\n",
    "\n",
    "            # 10% randomly change token to random token\n",
    "            elif prob < 0.9:\n",
    "                output_token.append(random.choice(list(token2idx.values())[4:]))\n",
    "\n",
    "            # -> rest 10% randomly keep current token\n",
    "\n",
    "            # append current token to output (we will predict these later\n",
    "            output_label.append(token)\n",
    "        else:\n",
    "            # no masking token (will be ignored by loss function later)\n",
    "            output_label.append(-1)\n",
    "            output_token.append(token)\n",
    "\n",
    "    return tokens, output_token, output_label"
   ]
  }
 ],
 "metadata": {
  "kernelspec": {
   "display_name": "Python 3",
   "language": "python",
   "name": "python3"
  },
  "language_info": {
   "codemirror_mode": {
    "name": "ipython",
    "version": 3
   },
   "file_extension": ".py",
   "mimetype": "text/x-python",
   "name": "python",
   "nbconvert_exporter": "python",
   "pygments_lexer": "ipython3",
   "version": "3.7.10"
  },
  "toc": {
   "base_numbering": 1,
   "nav_menu": {},
   "number_sections": true,
   "sideBar": true,
   "skip_h1_title": false,
   "title_cell": "Table of Contents",
   "title_sidebar": "Contents",
   "toc_cell": false,
   "toc_position": {},
   "toc_section_display": true,
   "toc_window_display": false
  }
 },
 "nbformat": 4,
 "nbformat_minor": 2
}
